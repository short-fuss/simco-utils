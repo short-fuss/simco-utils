{
 "cells": [
  {
   "cell_type": "markdown",
   "metadata": {},
   "source": [
    "# Sales Office"
   ]
  },
  {
   "cell_type": "code",
   "execution_count": null,
   "metadata": {},
   "outputs": [],
   "source": [
    "import pandas as pd\n",
    "import numpy as np\n",
    "import matplotlib.pyplot as plt\n",
    "import seaborn as sns\n",
    "import matplotlib.ticker as ticker\n",
    "import pathlib\n",
    "from plotting import Prices, shades"
   ]
  },
  {
   "cell_type": "markdown",
   "metadata": {},
   "source": [
    "Load price history"
   ]
  },
  {
   "cell_type": "code",
   "execution_count": null,
   "metadata": {},
   "outputs": [],
   "source": [
    "prices = Prices()"
   ]
  },
  {
   "cell_type": "code",
   "execution_count": null,
   "metadata": {},
   "outputs": [],
   "source": [
    "aerospace = ['SEP','Luxury Jet','Jumbo','SOR','BFR','Satellite']"
   ]
  },
  {
   "cell_type": "code",
   "execution_count": null,
   "metadata": {},
   "outputs": [],
   "source": [
    "mapper = {'Sin': 'SEP', 'Lux':'Luxury Jet', 'Jum': 'Jumbo', 'Sub': 'SOR', 'Sat': 'Satellite'}\n",
    "\n",
    "dfs = []\n",
    "for file in pathlib.Path('SalesOfficePrices').glob('*.hdf'):\n",
    "    try:\n",
    "        df = pd.read_hdf(file, 'prices').rename(columns=mapper)\n",
    "    except:\n",
    "        df = pd.read_hdf(file, 'test')\n",
    "    dfs.append(df)\n",
    "    \n",
    "df0 = pd.DataFrame(columns=['Time', 'Economy', 'SEP', 'Luxury Jet', 'Jumbo', 'SOR', 'BFR', 'Satellite'])\n",
    "as_prices = pd.concat([df0] + dfs, join='outer').sort_values('Time')\n",
    "as_prices"
   ]
  },
  {
   "cell_type": "markdown",
   "metadata": {},
   "source": [
    "Date of the nerf!"
   ]
  },
  {
   "cell_type": "code",
   "execution_count": null,
   "metadata": {},
   "outputs": [],
   "source": [
    "nerf = np.datetime64('2020-11-26T00')"
   ]
  },
  {
   "cell_type": "markdown",
   "metadata": {},
   "source": [
    "Plot the history of sales office prices"
   ]
  },
  {
   "cell_type": "code",
   "execution_count": null,
   "metadata": {},
   "outputs": [],
   "source": [
    "f, axs = plt.subplots(3, 2, figsize=(14,14))\n",
    "axr = axs.ravel()\n",
    "for commodity, ax in zip(aerospace, axr):\n",
    "    sns.scatterplot(x='Time', y=commodity, label='Prices', data=as_prices, ax=ax)\n",
    "    ax.set_ylabel('Price ($)')\n",
    "    ax.set_title(commodity)\n",
    "    for tick in ax.get_xticklabels():\n",
    "        tick.set_rotation(45)\n",
    "    ylims = ax.get_ylim()    \n",
    "\n",
    "    economy = prices.economy_history\n",
    "    es, indices = np.unique([e[1] for e in prices.economy_history], return_index=True)\n",
    "    ylim = ax.get_ylim()\n",
    "    for i in range(len(economy) - 1):\n",
    "        label = economy[i][1] if i in indices else None\n",
    "        ax.fill_between([economy[i][0], economy[i+1][0]], ylim[0]*np.ones(2), \n",
    "            (0.03*ylim[1]+0.97*ylim[0])*np.ones(2), color=shades[economy[i][1]], label=label\n",
    "        )\n",
    "\n",
    "    ax.plot([nerf,nerf], ylims, 'k--', label='Nerf')\n",
    "    ax.legend(loc='upper right')\n",
    "\n",
    "plt.tight_layout()\n",
    "sns.despine()"
   ]
  },
  {
   "cell_type": "markdown",
   "metadata": {},
   "source": [
    "I changed the economy strings from 'N' to 'N0' for normal economy before the nerf. This allows us to assess how the prices have changed since."
   ]
  },
  {
   "cell_type": "code",
   "execution_count": null,
   "metadata": {},
   "outputs": [],
   "source": [
    "economy_labels = {'N0': 'Normal (pre-nerf)', 'N': 'Normal', 'R': 'Recession', 'B': 'Boom'}\n",
    "as_prices['Economy'] = as_prices['Economy'].apply(lambda k: economy_labels[k])"
   ]
  },
  {
   "cell_type": "markdown",
   "metadata": {},
   "source": [
    "Plot the distribution of prices by economy"
   ]
  },
  {
   "cell_type": "code",
   "execution_count": null,
   "metadata": {},
   "outputs": [],
   "source": [
    "f, axs = plt.subplots(2, 3, figsize=(14,7))\n",
    "axr = axs.ravel()\n",
    "for commodity, ax in zip(aerospace, axr):\n",
    "    try:\n",
    "        sns.histplot(data=as_prices, x=commodity, hue='Economy', ax=ax, kde=True, kde_kws={'bw_method':2})\n",
    "    except:\n",
    "        sns.histplot(data=as_prices, x=commodity, hue='Economy', ax=ax)\n",
    "    ax.xaxis.set_major_formatter(ticker.EngFormatter())\n",
    "\n",
    "sns.despine()\n",
    "\n",
    "#f.savefig('sales_office.pdf')"
   ]
  },
  {
   "cell_type": "markdown",
   "metadata": {},
   "source": [
    "## Bonus\n",
    "What is the distribution of quality bonus values?"
   ]
  },
  {
   "cell_type": "code",
   "execution_count": null,
   "metadata": {},
   "outputs": [],
   "source": [
    "as_prices['Bonus'].hist(bins=15, xrot=45, grid=False)\n",
    "sns.despine()"
   ]
  },
  {
   "cell_type": "markdown",
   "metadata": {},
   "source": [
    "It looks like a uniform distribution between 1 and 3!"
   ]
  },
  {
   "cell_type": "markdown",
   "metadata": {},
   "source": [
    "## Quantities"
   ]
  },
  {
   "cell_type": "code",
   "execution_count": null,
   "metadata": {},
   "outputs": [],
   "source": [
    "mapper = {'Sin': 'SEP', 'Lux':'Luxury Jet', 'Jum': 'Jumbo', 'Sub': 'SOR', 'Sat': 'Satellite'}\n",
    "\n",
    "dfs = []\n",
    "for file in pathlib.Path('SalesOfficeQuantities').glob('*.hdf'):\n",
    "    try:\n",
    "        df = pd.read_hdf(file, 'quantities').rename(columns=mapper)\n",
    "    except:\n",
    "        pass\n",
    "    dfs.append(df)\n",
    "    \n",
    "as_quantities = pd.concat([df0] + dfs, join='outer').sort_values('Time').fillna(0)\n",
    "as_quantities.head()"
   ]
  },
  {
   "cell_type": "markdown",
   "metadata": {},
   "source": [
    "Plot the distribution of quantities for each sales office product "
   ]
  },
  {
   "cell_type": "code",
   "execution_count": null,
   "metadata": {},
   "outputs": [],
   "source": [
    "f, axs = plt.subplots(2, 3, figsize=(14,6))\n",
    "axr = axs.ravel()\n",
    "for commodity, ax in zip(aerospace, axr):\n",
    "    positives = as_quantities[commodity] > 0\n",
    "    sns.histplot(data = as_quantities[positives], x=commodity, ax=ax, bins=np.linspace(-0.5, 5.5, 7))\n",
    "plt.tight_layout()\n",
    "sns.despine()"
   ]
  },
  {
   "cell_type": "markdown",
   "metadata": {},
   "source": [
    "**Conclusions.**\n",
    "It seems that the quantity of each commodity is uniformly-distributed, but across slightly different supports. For SEP, it's uniform over {2, 3, 4, 5}, while for the others, it seems to be uniformly-distributed across {1, 2, 3, 4}."
   ]
  },
  {
   "cell_type": "markdown",
   "metadata": {},
   "source": [
    "## Frequencies\n",
    "Use this to figure out how many of each commodity is needed per day, by assuming that the demand is equal to the average quantity of each product multipled by one-half of the number of Sales Office levels you have."
   ]
  },
  {
   "cell_type": "code",
   "execution_count": null,
   "metadata": {},
   "outputs": [],
   "source": [
    "p = np.array([3.5, 2.5, 2.5, 2.5, 2.5, 2.5])\n",
    "n = as_quantities.shape[0]\n",
    "freq = [len(np.where(as_quantities[commodity]>0)[0])/n for commodity in aerospace]\n",
    "plt.bar(x=aerospace, height=freq)\n",
    "sns.despine()\n",
    "\n",
    "levels_day = 65 / 2\n",
    "df = pd.DataFrame()\n",
    "df['Commodity'] = aerospace\n",
    "df['Expected /d'] = freq * p * levels_day\n",
    "df"
   ]
  },
  {
   "cell_type": "markdown",
   "metadata": {},
   "source": [
    "## Stats\n",
    "Approximate the mean prices for each commodity, by economy"
   ]
  },
  {
   "cell_type": "code",
   "execution_count": null,
   "metadata": {},
   "outputs": [],
   "source": [
    "def get_stats(commodity, economy):\n",
    "    x = as_prices[as_prices['Economy'] == economy][commodity]\n",
    "    return [x.mean(), x.std()]\n",
    "\n",
    "recession = [get_stats(commodity, 'Recession') for commodity in aerospace]\n",
    "normal = [get_stats(commodity, 'Normal') for commodity in aerospace]\n",
    "boom = [get_stats(commodity, 'Boom') for commodity in aerospace]\n",
    "\n",
    "df = pd.DataFrame(np.hstack([recession, normal, boom]), columns=['Recession Mean','Recession Std. dev.','Normal Mean','Normal Std. dev.','Boom Mean','Boom Std. dev.'], index=aerospace)\n",
    "df"
   ]
  },
  {
   "cell_type": "markdown",
   "metadata": {},
   "source": [
    "What's the increase in price in Boom?"
   ]
  },
  {
   "cell_type": "code",
   "execution_count": null,
   "metadata": {},
   "outputs": [],
   "source": [
    "df['Boom Mean'] / df['Normal Mean']"
   ]
  },
  {
   "cell_type": "markdown",
   "metadata": {},
   "source": [
    "What's the decrease in price in Recession?"
   ]
  },
  {
   "cell_type": "code",
   "execution_count": null,
   "metadata": {},
   "outputs": [],
   "source": [
    "df['Normal Mean'] / df['Recession Mean']"
   ]
  }
 ],
 "metadata": {
  "kernelspec": {
   "display_name": "Python 3",
   "language": "python",
   "name": "python3"
  },
  "language_info": {
   "codemirror_mode": {
    "name": "ipython",
    "version": 3
   },
   "file_extension": ".py",
   "mimetype": "text/x-python",
   "name": "python",
   "nbconvert_exporter": "python",
   "pygments_lexer": "ipython3",
   "version": "3.8.8"
  }
 },
 "nbformat": 4,
 "nbformat_minor": 4
}
