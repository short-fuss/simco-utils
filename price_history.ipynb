{
 "cells": [
  {
   "cell_type": "markdown",
   "metadata": {},
   "source": [
    "# Analyse commodity price history"
   ]
  },
  {
   "cell_type": "code",
   "execution_count": null,
   "metadata": {},
   "outputs": [],
   "source": [
    "import pandas as pd\n",
    "import numpy as np\n",
    "import matplotlib.pyplot as plt\n",
    "import seaborn as sns\n",
    "import matplotlib.ticker as ticker\n",
    "\n",
    "from plotting import Prices, gp_smoother"
   ]
  },
  {
   "cell_type": "markdown",
   "metadata": {},
   "source": [
    "Load all price history from a specified start date"
   ]
  },
  {
   "cell_type": "code",
   "execution_count": null,
   "metadata": {},
   "outputs": [],
   "source": [
    "prices = Prices(initial_time = np.datetime64('2021-01-01T00'))\n",
    "prices.history[0].head()"
   ]
  },
  {
   "cell_type": "markdown",
   "metadata": {},
   "source": [
    "### Plot commodity history by level\n",
    "\n",
    "Specify which commodity and a list of quality levels that you're interested in"
   ]
  },
  {
   "cell_type": "code",
   "execution_count": null,
   "metadata": {
    "scrolled": false
   },
   "outputs": [],
   "source": [
    "f = plt.figure(figsize=(8,5))\n",
    "#prices.plot_commodity('Crude Oil', [0, 1, 2, 3])\n",
    "#prices.plot_commodity('High-grade E-comps', [0, 1, 2, 3])\n",
    "prices.plot_commodity('Aluminium', [0, 1, 2, 3])\n",
    "#prices.plot_commodity('Petrol', [0, 1, 2, 3])\n",
    "sns.despine()\n",
    "#f.savefig('example.pdf', bbox_inches='tight')"
   ]
  },
  {
   "cell_type": "markdown",
   "metadata": {},
   "source": [
    "Plot multiple commodities together"
   ]
  },
  {
   "cell_type": "code",
   "execution_count": null,
   "metadata": {
    "scrolled": false
   },
   "outputs": [],
   "source": [
    "cs = [\n",
    "    ('High-grade E-comps', [1, 2, 3]),\n",
    "    ('Carbon Composite', [2, 3]),\n",
    "    ('Attitude Control', [2, 3]),\n",
    "    ('Cockpit', [3, 4]),\n",
    "    ('Fuselage', [3, 4]),\n",
    "    ('Wing', [3, 4]),\n",
    "]\n",
    "num_cs = len(cs)\n",
    "num_cols = 2\n",
    "num_rows = int(np.ceil(num_cs / num_cols))\n",
    "\n",
    "f, axs = plt.subplots(num_rows, num_cols, figsize=(14,3.5*num_rows))\n",
    "axr = axs.ravel()\n",
    "for i, (commodity, qs) in enumerate(cs):\n",
    "    prices.plot_commodity(commodity, qs, axr[i])\n",
    "plt.tight_layout()\n",
    "sns.despine()"
   ]
  },
  {
   "cell_type": "markdown",
   "metadata": {},
   "source": [
    "Research"
   ]
  },
  {
   "cell_type": "code",
   "execution_count": null,
   "metadata": {},
   "outputs": [],
   "source": [
    "cs = [\n",
    "    ('Plant Research', [0], [140, 200]),\n",
    "    ('Energy Research', [0], [265, 330]),\n",
    "    ('Mining Research', [0], None),\n",
    "    ('Electronics Research', [0], None),\n",
    "    ('Breeding Research', [0], [170, 230]),\n",
    "    ('Chemistry Research', [0], None),\n",
    "    ('Software', [0], None),\n",
    "    ('Automotive Research', [0], None),\n",
    "    ('Fashion Research', [0], None),\n",
    "    ('Aerospace Research', [0], None),\n",
    "    ('Materials Research', [0], None),    \n",
    "]\n",
    "num_cs = len(cs)\n",
    "num_cols = 3\n",
    "num_rows = int(np.ceil(num_cs / num_cols))\n",
    "\n",
    "f, axs = plt.subplots(num_rows, num_cols, figsize=(14,3.5*num_rows))\n",
    "axr = axs.ravel()\n",
    "for i, (commodity, qs, ylims) in enumerate(cs):\n",
    "    prices.plot_commodity(commodity, qs, axr[i], ylims=ylims)\n",
    "plt.tight_layout()\n",
    "sns.despine()"
   ]
  },
  {
   "cell_type": "markdown",
   "metadata": {},
   "source": [
    "### Opportunity analysis\n",
    "Compute statistics over the price history, to identify how much current prices deviate from the norm "
   ]
  },
  {
   "cell_type": "code",
   "execution_count": null,
   "metadata": {},
   "outputs": [],
   "source": [
    "prices.get_stats('Aluminium')"
   ]
  },
  {
   "cell_type": "code",
   "execution_count": null,
   "metadata": {},
   "outputs": [],
   "source": [
    "opportunity = pd.concat([prices.get_stats(com, qmax=3) for com in prices.history[0].index])"
   ]
  },
  {
   "cell_type": "code",
   "execution_count": null,
   "metadata": {},
   "outputs": [],
   "source": [
    "f = plt.figure(figsize=(10,30))\n",
    "sns.barplot(data = opportunity, y='Commodity', x='z', hue='Q')"
   ]
  },
  {
   "cell_type": "markdown",
   "metadata": {},
   "source": [
    "Sort the opportunities by lowest z score"
   ]
  },
  {
   "cell_type": "code",
   "execution_count": null,
   "metadata": {
    "scrolled": false
   },
   "outputs": [],
   "source": [
    "opportunity.sort_values('z')"
   ]
  },
  {
   "cell_type": "markdown",
   "metadata": {},
   "source": [
    "Plot the history of a given commodity/quality, annotated with the statistics"
   ]
  },
  {
   "cell_type": "code",
   "execution_count": null,
   "metadata": {},
   "outputs": [],
   "source": [
    "prices.plot_stats('Wing', 0)"
   ]
  }
 ],
 "metadata": {
  "kernelspec": {
   "display_name": "Python 3",
   "language": "python",
   "name": "python3"
  },
  "language_info": {
   "codemirror_mode": {
    "name": "ipython",
    "version": 3
   },
   "file_extension": ".py",
   "mimetype": "text/x-python",
   "name": "python",
   "nbconvert_exporter": "python",
   "pygments_lexer": "ipython3",
   "version": "3.8.8"
  }
 },
 "nbformat": 4,
 "nbformat_minor": 4
}
